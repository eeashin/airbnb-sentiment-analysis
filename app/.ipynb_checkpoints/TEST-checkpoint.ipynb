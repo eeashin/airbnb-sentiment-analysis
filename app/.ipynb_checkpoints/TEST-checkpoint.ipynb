{
 "cells": [
  {
   "cell_type": "markdown",
   "id": "1ace0c45",
   "metadata": {},
   "source": [
    "# Leveraging Sentiment Analysis to Improve Airbnb Visualization Maps"
   ]
  },
  {
   "cell_type": "markdown",
   "id": "8dab2c21",
   "metadata": {},
   "source": [
    "## Loading data"
   ]
  },
  {
   "cell_type": "code",
   "execution_count": 14,
   "id": "59888fdc",
   "metadata": {},
   "outputs": [
    {
     "name": "stdout",
     "output_type": "stream",
     "text": [
      "+------+--------------------------------------------------------------------------+-------+----------------+-------------------+----------------------------------+-----------------+-----------------+---------------+-----+--------------+-----------------+-----------+-----------------+------------------------------+----------------+---------------------+-----------+\n",
      "|id    |name                                                                      |host_id|host_name       |neighbourhood_group|neighbourhood                     |latitude         |longitude        |room_type      |price|minimum_nights|number_of_reviews|last_review|reviews_per_month|calculated_host_listings_count|availability_365|number_of_reviews_ltm|license    |\n",
      "+------+--------------------------------------------------------------------------+-------+----------------+-------------------+----------------------------------+-----------------+-----------------+---------------+-----+--------------+-----------------+-----------+-----------------+------------------------------+----------------+---------------------+-----------+\n",
      "|18674 |Rental unit in Barcelona · ★4.30 · 3 bedrooms · 6 beds · 2 baths          |71615  |Mireia And Maria|Eixample           |la Sagrada Família                |41.40556         |2.17262          |Entire home/apt|202  |1             |38               |2023-06-26 |0.30             |30                            |34              |8                    |HUTB-002062|\n",
      "|23197 |Rental unit in Sant Adria de Besos · ★4.77 · 3 bedrooms · 4 beds · 2 baths|90417  |Etain (Marnie)  |Sant Martí         |el Besòs i el Maresme             |41.41243172529066|2.219750335269476|Entire home/apt|255  |3             |73               |2023-08-15 |0.48             |2                             |150             |11                   |HUTB005057 |\n",
      "|32711 |Rental unit in Barcelona · ★4.46 · 2 bedrooms · 3 beds · 1.5 baths        |135703 |Nick            |Gràcia             |el Camp d'en Grassot i Gràcia Nova|41.40566         |2.17015          |Entire home/apt|171  |21            |95               |2023-08-18 |0.64             |3                             |310             |21                   |HUTB-001722|\n",
      "|171646|Rental unit in Barcelona · ★4.81 · 2 bedrooms · 2 beds · 1 bath           |400154 |Mireia          |Sant Martí         |el Clot                           |41.40671         |2.18592          |Entire home/apt|152  |3             |81               |2023-08-27 |0.65             |9                             |58              |22                   |HUTB-004663|\n",
      "|171816|Rental unit in Barcelona · ★4.71 · 2 bedrooms · 3 beds · 1 bath           |400154 |Mireia          |Sant Martí         |el Clot                           |41.40681         |2.18553          |Entire home/apt|150  |3             |49               |2023-08-27 |0.39             |9                             |67              |27                   |HUTB-004664|\n",
      "+------+--------------------------------------------------------------------------+-------+----------------+-------------------+----------------------------------+-----------------+-----------------+---------------+-----+--------------+-----------------+-----------+-----------------+------------------------------+----------------+---------------------+-----------+\n",
      "only showing top 5 rows\n",
      "\n",
      "MongoClient(host=['localhost:27017'], document_class=dict, tz_aware=False, connect=True)\n"
     ]
    }
   ],
   "source": [
    "import pyspark\n",
    "import pymongo\n",
    "from pyspark.sql import SparkSession\n",
    "spark = SparkSession.builder.appName(\"Datacamp Pyspark Tutorial\").config(\"spark.memory.offHeap.enabled\",\"true\").config(\"spark.memory.offHeap.size\",\"10g\").getOrCreate()\n",
    "df = spark.read.csv('./data/listings.csv', header=True, escape=\"\\\"\")\n",
    "df.show(5,0)\n",
    "\n",
    "client = pymongo.MongoClient(\"localhost\", 27017)\n",
    "\n",
    "print(client)\n"
   ]
  },
  {
   "cell_type": "code",
   "execution_count": 15,
   "id": "5ec5d37e",
   "metadata": {},
   "outputs": [
    {
     "name": "stdout",
     "output_type": "stream",
     "text": [
      "THE SUM IS HERE:  4950\n"
     ]
    }
   ],
   "source": [
    "# Import the necessary modules\n",
    "from pyspark.sql import SparkSession\n",
    "from pyspark.sql.functions import *\n",
    "\n",
    "# https://github.com/RWaltersMA/mongo-spark-jupyter\n",
    "# master(\"spark://spark-master:7077\") --> If you add this master to the builder the master worker stops ...  :(\n",
    "# Create a SparkSession\n",
    "spark = SparkSession \\\n",
    "    .builder \\\n",
    "    .appName(\"pyspark-notebook2\") \\\n",
    "    .config(\"spark.executor.memory\", \"1g\") \\\n",
    "    .config(\"spark.mongodb.input.uri\", \"mongodb://mongo:27017\") \\\n",
    "    .config(\"spark.mongodb.output.uri\", \"mongodb://mongo:27017\") \\\n",
    "    .config(\"spark.jars.packages\", \"org.mongodb.spark:mongo-spark-connector_2.12:3.0.0\") \\\n",
    "    .getOrCreate()\n",
    "\n",
    "rdd = spark.sparkContext.parallelize(range(1, 100))\n",
    "\n",
    "print(\"THE SUM IS HERE: \", rdd.sum())\n",
    "# Stop the SparkSession\n",
    "spark.stop()"
   ]
  },
  {
   "cell_type": "code",
   "execution_count": null,
   "id": "a348e4f7",
   "metadata": {},
   "outputs": [],
   "source": []
  },
  {
   "cell_type": "code",
   "execution_count": 3,
   "id": "53731eff",
   "metadata": {},
   "outputs": [],
   "source": [
    "# Import the necessary modules\n",
    "from pyspark.sql import SparkSession\n",
    "from pyspark.sql.functions import *\n",
    "\n",
    "# https://github.com/RWaltersMA/mongo-spark-jupyter\n",
    "# master(\"spark://spark-master:7077\") --> If you add this master to the builder the master worker stops ...  :(\n",
    "# Create a SparkSession\n",
    "spark = SparkSession \\\n",
    "    .builder \\\n",
    "    .appName(\"pyspark-notebook2\") \\\n",
    "    .config(\"spark.executor.memory\", \"1g\") \\\n",
    "    .config(\"spark.mongodb.input.uri\", \"mongodb://mongo:27017\") \\\n",
    "    .config(\"spark.mongodb.output.uri\", \"mongodb://mongo:27017\") \\\n",
    "    .config(\"spark.jars.packages\", \"org.mongodb.spark:mongo-spark-connector_2.12:3.0.0\") \\\n",
    "    .getOrCreate()\n"
   ]
  },
  {
   "cell_type": "code",
   "execution_count": 4,
   "id": "c7a74626",
   "metadata": {},
   "outputs": [
    {
     "name": "stdout",
     "output_type": "stream",
     "text": [
      "+------+--------------------------------------------------------------------------+-------+----------------+-------------------+----------------------------------+-----------------+-----------------+---------------+-----+--------------+-----------------+-----------+-----------------+------------------------------+----------------+---------------------+-----------+\n",
      "|id    |name                                                                      |host_id|host_name       |neighbourhood_group|neighbourhood                     |latitude         |longitude        |room_type      |price|minimum_nights|number_of_reviews|last_review|reviews_per_month|calculated_host_listings_count|availability_365|number_of_reviews_ltm|license    |\n",
      "+------+--------------------------------------------------------------------------+-------+----------------+-------------------+----------------------------------+-----------------+-----------------+---------------+-----+--------------+-----------------+-----------+-----------------+------------------------------+----------------+---------------------+-----------+\n",
      "|18674 |Rental unit in Barcelona · ★4.30 · 3 bedrooms · 6 beds · 2 baths          |71615  |Mireia And Maria|Eixample           |la Sagrada Família                |41.40556         |2.17262          |Entire home/apt|202  |1             |38               |2023-06-26 |0.30             |30                            |34              |8                    |HUTB-002062|\n",
      "|23197 |Rental unit in Sant Adria de Besos · ★4.77 · 3 bedrooms · 4 beds · 2 baths|90417  |Etain (Marnie)  |Sant Martí         |el Besòs i el Maresme             |41.41243172529066|2.219750335269476|Entire home/apt|255  |3             |73               |2023-08-15 |0.48             |2                             |150             |11                   |HUTB005057 |\n",
      "|32711 |Rental unit in Barcelona · ★4.46 · 2 bedrooms · 3 beds · 1.5 baths        |135703 |Nick            |Gràcia             |el Camp d'en Grassot i Gràcia Nova|41.40566         |2.17015          |Entire home/apt|171  |21            |95               |2023-08-18 |0.64             |3                             |310             |21                   |HUTB-001722|\n",
      "|171646|Rental unit in Barcelona · ★4.81 · 2 bedrooms · 2 beds · 1 bath           |400154 |Mireia          |Sant Martí         |el Clot                           |41.40671         |2.18592          |Entire home/apt|152  |3             |81               |2023-08-27 |0.65             |9                             |58              |22                   |HUTB-004663|\n",
      "|171816|Rental unit in Barcelona · ★4.71 · 2 bedrooms · 3 beds · 1 bath           |400154 |Mireia          |Sant Martí         |el Clot                           |41.40681         |2.18553          |Entire home/apt|150  |3             |49               |2023-08-27 |0.39             |9                             |67              |27                   |HUTB-004664|\n",
      "+------+--------------------------------------------------------------------------+-------+----------------+-------------------+----------------------------------+-----------------+-----------------+---------------+-----+--------------+-----------------+-----------+-----------------+------------------------------+----------------+---------------------+-----------+\n",
      "only showing top 5 rows\n",
      "\n",
      "Number of rows:  18086\n"
     ]
    }
   ],
   "source": [
    "listings = spark.read.csv('./data/listings.csv', header=True, escape=\"\\\"\")\n",
    "listings.show(5, 0)\n",
    "\n",
    "print(\"Number of rows: \", listings.count())\n"
   ]
  },
  {
   "cell_type": "code",
   "execution_count": 5,
   "id": "54ec1fa5",
   "metadata": {},
   "outputs": [
    {
     "ename": "AnalysisException",
     "evalue": "Path does not exist: file:/opt/workspace/data/reviews.csv;",
     "output_type": "error",
     "traceback": [
      "\u001b[0;31m---------------------------------------------------------------------------\u001b[0m",
      "\u001b[0;31mAnalysisException\u001b[0m                         Traceback (most recent call last)",
      "Cell \u001b[0;32mIn[5], line 1\u001b[0m\n\u001b[0;32m----> 1\u001b[0m reviews \u001b[38;5;241m=\u001b[39m \u001b[43mspark\u001b[49m\u001b[38;5;241;43m.\u001b[39;49m\u001b[43mread\u001b[49m\u001b[38;5;241;43m.\u001b[39;49m\u001b[43mcsv\u001b[49m\u001b[43m(\u001b[49m\u001b[38;5;124;43m'\u001b[39;49m\u001b[38;5;124;43m./data/reviews.csv\u001b[39;49m\u001b[38;5;124;43m'\u001b[39;49m\u001b[43m,\u001b[49m\u001b[43m \u001b[49m\u001b[43mheader\u001b[49m\u001b[38;5;241;43m=\u001b[39;49m\u001b[38;5;28;43;01mTrue\u001b[39;49;00m\u001b[43m,\u001b[49m\u001b[43m \u001b[49m\u001b[43mescape\u001b[49m\u001b[38;5;241;43m=\u001b[39;49m\u001b[38;5;124;43m\"\u001b[39;49m\u001b[38;5;130;43;01m\\\"\u001b[39;49;00m\u001b[38;5;124;43m\"\u001b[39;49m\u001b[43m)\u001b[49m\n\u001b[1;32m      2\u001b[0m reviews\u001b[38;5;241m.\u001b[39mshow(\u001b[38;5;241m5\u001b[39m, \u001b[38;5;241m0\u001b[39m)\n\u001b[1;32m      4\u001b[0m \u001b[38;5;28mprint\u001b[39m(\u001b[38;5;124m\"\u001b[39m\u001b[38;5;124mNumber of rows: \u001b[39m\u001b[38;5;124m\"\u001b[39m, reviews\u001b[38;5;241m.\u001b[39mcount())\n",
      "File \u001b[0;32m/usr/local/lib/python3.9/dist-packages/pyspark/sql/readwriter.py:535\u001b[0m, in \u001b[0;36mDataFrameReader.csv\u001b[0;34m(self, path, schema, sep, encoding, quote, escape, comment, header, inferSchema, ignoreLeadingWhiteSpace, ignoreTrailingWhiteSpace, nullValue, nanValue, positiveInf, negativeInf, dateFormat, timestampFormat, maxColumns, maxCharsPerColumn, maxMalformedLogPerPartition, mode, columnNameOfCorruptRecord, multiLine, charToEscapeQuoteEscaping, samplingRatio, enforceSchema, emptyValue, locale, lineSep, pathGlobFilter, recursiveFileLookup)\u001b[0m\n\u001b[1;32m    533\u001b[0m     path \u001b[38;5;241m=\u001b[39m [path]\n\u001b[1;32m    534\u001b[0m \u001b[38;5;28;01mif\u001b[39;00m \u001b[38;5;28mtype\u001b[39m(path) \u001b[38;5;241m==\u001b[39m \u001b[38;5;28mlist\u001b[39m:\n\u001b[0;32m--> 535\u001b[0m     \u001b[38;5;28;01mreturn\u001b[39;00m \u001b[38;5;28mself\u001b[39m\u001b[38;5;241m.\u001b[39m_df(\u001b[38;5;28;43mself\u001b[39;49m\u001b[38;5;241;43m.\u001b[39;49m\u001b[43m_jreader\u001b[49m\u001b[38;5;241;43m.\u001b[39;49m\u001b[43mcsv\u001b[49m\u001b[43m(\u001b[49m\u001b[38;5;28;43mself\u001b[39;49m\u001b[38;5;241;43m.\u001b[39;49m\u001b[43m_spark\u001b[49m\u001b[38;5;241;43m.\u001b[39;49m\u001b[43m_sc\u001b[49m\u001b[38;5;241;43m.\u001b[39;49m\u001b[43m_jvm\u001b[49m\u001b[38;5;241;43m.\u001b[39;49m\u001b[43mPythonUtils\u001b[49m\u001b[38;5;241;43m.\u001b[39;49m\u001b[43mtoSeq\u001b[49m\u001b[43m(\u001b[49m\u001b[43mpath\u001b[49m\u001b[43m)\u001b[49m\u001b[43m)\u001b[49m)\n\u001b[1;32m    536\u001b[0m \u001b[38;5;28;01melif\u001b[39;00m \u001b[38;5;28misinstance\u001b[39m(path, RDD):\n\u001b[1;32m    537\u001b[0m     \u001b[38;5;28;01mdef\u001b[39;00m \u001b[38;5;21mfunc\u001b[39m(iterator):\n",
      "File \u001b[0;32m/usr/local/lib/python3.9/dist-packages/py4j/java_gateway.py:1304\u001b[0m, in \u001b[0;36mJavaMember.__call__\u001b[0;34m(self, *args)\u001b[0m\n\u001b[1;32m   1298\u001b[0m command \u001b[38;5;241m=\u001b[39m proto\u001b[38;5;241m.\u001b[39mCALL_COMMAND_NAME \u001b[38;5;241m+\u001b[39m\\\n\u001b[1;32m   1299\u001b[0m     \u001b[38;5;28mself\u001b[39m\u001b[38;5;241m.\u001b[39mcommand_header \u001b[38;5;241m+\u001b[39m\\\n\u001b[1;32m   1300\u001b[0m     args_command \u001b[38;5;241m+\u001b[39m\\\n\u001b[1;32m   1301\u001b[0m     proto\u001b[38;5;241m.\u001b[39mEND_COMMAND_PART\n\u001b[1;32m   1303\u001b[0m answer \u001b[38;5;241m=\u001b[39m \u001b[38;5;28mself\u001b[39m\u001b[38;5;241m.\u001b[39mgateway_client\u001b[38;5;241m.\u001b[39msend_command(command)\n\u001b[0;32m-> 1304\u001b[0m return_value \u001b[38;5;241m=\u001b[39m \u001b[43mget_return_value\u001b[49m\u001b[43m(\u001b[49m\n\u001b[1;32m   1305\u001b[0m \u001b[43m    \u001b[49m\u001b[43manswer\u001b[49m\u001b[43m,\u001b[49m\u001b[43m \u001b[49m\u001b[38;5;28;43mself\u001b[39;49m\u001b[38;5;241;43m.\u001b[39;49m\u001b[43mgateway_client\u001b[49m\u001b[43m,\u001b[49m\u001b[43m \u001b[49m\u001b[38;5;28;43mself\u001b[39;49m\u001b[38;5;241;43m.\u001b[39;49m\u001b[43mtarget_id\u001b[49m\u001b[43m,\u001b[49m\u001b[43m \u001b[49m\u001b[38;5;28;43mself\u001b[39;49m\u001b[38;5;241;43m.\u001b[39;49m\u001b[43mname\u001b[49m\u001b[43m)\u001b[49m\n\u001b[1;32m   1307\u001b[0m \u001b[38;5;28;01mfor\u001b[39;00m temp_arg \u001b[38;5;129;01min\u001b[39;00m temp_args:\n\u001b[1;32m   1308\u001b[0m     temp_arg\u001b[38;5;241m.\u001b[39m_detach()\n",
      "File \u001b[0;32m/usr/local/lib/python3.9/dist-packages/pyspark/sql/utils.py:137\u001b[0m, in \u001b[0;36mcapture_sql_exception.<locals>.deco\u001b[0;34m(*a, **kw)\u001b[0m\n\u001b[1;32m    133\u001b[0m converted \u001b[38;5;241m=\u001b[39m convert_exception(e\u001b[38;5;241m.\u001b[39mjava_exception)\n\u001b[1;32m    134\u001b[0m \u001b[38;5;28;01mif\u001b[39;00m \u001b[38;5;129;01mnot\u001b[39;00m \u001b[38;5;28misinstance\u001b[39m(converted, UnknownException):\n\u001b[1;32m    135\u001b[0m     \u001b[38;5;66;03m# Hide where the exception came from that shows a non-Pythonic\u001b[39;00m\n\u001b[1;32m    136\u001b[0m     \u001b[38;5;66;03m# JVM exception message.\u001b[39;00m\n\u001b[0;32m--> 137\u001b[0m     \u001b[43mraise_from\u001b[49m\u001b[43m(\u001b[49m\u001b[43mconverted\u001b[49m\u001b[43m)\u001b[49m\n\u001b[1;32m    138\u001b[0m \u001b[38;5;28;01melse\u001b[39;00m:\n\u001b[1;32m    139\u001b[0m     \u001b[38;5;28;01mraise\u001b[39;00m\n",
      "File \u001b[0;32m<string>:3\u001b[0m, in \u001b[0;36mraise_from\u001b[0;34m(e)\u001b[0m\n",
      "\u001b[0;31mAnalysisException\u001b[0m: Path does not exist: file:/opt/workspace/data/reviews.csv;"
     ]
    }
   ],
   "source": [
    "reviews = spark.read.csv('./data/reviews.csv', header=True, escape=\"\\\"\")\n",
    "reviews.show(5, 0)\n",
    "\n",
    "print(\"Number of rows: \", reviews.count())\n"
   ]
  },
  {
   "cell_type": "code",
   "execution_count": 7,
   "id": "6e1735c2",
   "metadata": {},
   "outputs": [
    {
     "name": "stdout",
     "output_type": "stream",
     "text": [
      "+-----+----------------------------------------------------------------+-------+----------------+-------------------+------------------+--------+---------+---------------+-----+--------------+-----------------+-----------+-----------------+------------------------------+----------------+---------------------+-----------+----------+---------+----------+-----------+-------------+-------------------------------------------------------------------------------------------------------------------------------------------------------------------------------------------------------------------------------------------------------------------------------------------------------------------------------------------------------------------------------------------------------------------------------------------------------------------------------------------------------------------------------------------------+\n",
      "|id   |name                                                            |host_id|host_name       |neighbourhood_group|neighbourhood     |latitude|longitude|room_type      |price|minimum_nights|number_of_reviews|last_review|reviews_per_month|calculated_host_listings_count|availability_365|number_of_reviews_ltm|license    |listing_id|id       |date      |reviewer_id|reviewer_name|comments                                                                                                                                                                                                                                                                                                                                                                                                                                                                                                                                         |\n",
      "+-----+----------------------------------------------------------------+-------+----------------+-------------------+------------------+--------+---------+---------------+-----+--------------+-----------------+-----------+-----------------+------------------------------+----------------+---------------------+-----------+----------+---------+----------+-----------+-------------+-------------------------------------------------------------------------------------------------------------------------------------------------------------------------------------------------------------------------------------------------------------------------------------------------------------------------------------------------------------------------------------------------------------------------------------------------------------------------------------------------------------------------------------------------+\n",
      "|18674|Rental unit in Barcelona · ★4.30 · 3 bedrooms · 6 beds · 2 baths|71615  |Mireia And Maria|Eixample           |la Sagrada Família|41.40556|2.17262  |Entire home/apt|202  |1             |38               |2023-06-26 |0.30             |30                            |34              |8                    |HUTB-002062|18674     |4808211  |2013-05-27|4841196    |Caron        |Great location. Clean, spacious flat. Would recommend to anyone.                                                                                                                                                                                                                                                                                                                                                                                                                                                                                 |\n",
      "|18674|Rental unit in Barcelona · ★4.30 · 3 bedrooms · 6 beds · 2 baths|71615  |Mireia And Maria|Eixample           |la Sagrada Família|41.40556|2.17262  |Entire home/apt|202  |1             |38               |2023-06-26 |0.30             |30                            |34              |8                    |HUTB-002062|18674     |10660311 |2014-03-02|11600277   |Juan Carlos  |Mi mejor recomendación para este departamento. Cuida todos los detalles, adicionalmente muy cómodo, limpio, funcional y situado perfectamente.                                                                                                                                                                                                                                                                                                                                                                                                   |\n",
      "|18674|Rental unit in Barcelona · ★4.30 · 3 bedrooms · 6 beds · 2 baths|71615  |Mireia And Maria|Eixample           |la Sagrada Família|41.40556|2.17262  |Entire home/apt|202  |1             |38               |2023-06-26 |0.30             |30                            |34              |8                    |HUTB-002062|18674     |41087522 |2015-08-04|35231385   |Shlomi       |Big apartment, well equipped.                                                                                                                                                                                                                                                                                                                                                                                                                                                                                                                    |\n",
      "|18674|Rental unit in Barcelona · ★4.30 · 3 bedrooms · 6 beds · 2 baths|71615  |Mireia And Maria|Eixample           |la Sagrada Família|41.40556|2.17262  |Entire home/apt|202  |1             |38               |2023-06-26 |0.30             |30                            |34              |8                    |HUTB-002062|18674     |81000756 |2016-06-20|23223644   |Joost        |The Check in was fast and flexible. The price is fair, because the flat ist big enough for 8 people if you are flexible as well. We were the in a time where it wasn't so hot outside, so I have no idea how hot it can get inside. This was my second Airbnb stay so I can't compare it so good with other apartments but I would wish me, that the owner, offers the guests more toilet paper  etc. . Because if it is a short stay, you don't want to buy all the staff in big packages. <br/>All in all we are very happy with this decision |\n",
      "|18674|Rental unit in Barcelona · ★4.30 · 3 bedrooms · 6 beds · 2 baths|71615  |Mireia And Maria|Eixample           |la Sagrada Família|41.40556|2.17262  |Entire home/apt|202  |1             |38               |2023-06-26 |0.30             |30                            |34              |8                    |HUTB-002062|18674     |278588962|2018-06-18|4756672    |Marius       |Great location and enough space in the apartment for 7 people. Although the mattresses were a bit too soft and the house is quite noisy, its a solid choice for a big group of people for a weekend in barcelona.                                                                                                                                                                                                                                                                                                                                |\n",
      "+-----+----------------------------------------------------------------+-------+----------------+-------------------+------------------+--------+---------+---------------+-----+--------------+-----------------+-----------+-----------------+------------------------------+----------------+---------------------+-----------+----------+---------+----------+-----------+-------------+-------------------------------------------------------------------------------------------------------------------------------------------------------------------------------------------------------------------------------------------------------------------------------------------------------------------------------------------------------------------------------------------------------------------------------------------------------------------------------------------------------------------------------------------------+\n",
      "only showing top 5 rows\n",
      "\n",
      "Number of rows:  763592\n"
     ]
    }
   ],
   "source": [
    "# join listings and reviews on the id and listing_id columns\n",
    "listings_reviews = listings.join(reviews, listings.id == reviews.listing_id)\n",
    "listings_reviews.show(5, 0)\n",
    "\n",
    "print(\"Number of rows: \", listings_reviews.count())\n"
   ]
  },
  {
   "cell_type": "code",
   "execution_count": 8,
   "id": "8a0ff62f",
   "metadata": {},
   "outputs": [
    {
     "name": "stdout",
     "output_type": "stream",
     "text": [
      "+----------+--------+---------+-------------------------------------------------------------------------------------------------------------------------------------------------------------------------------------------------------------------------------------------------------------------------------------------------------------------------------------------------------------------------------------------------------------------------------------------------------------------------------------------------------------------------------------------------+\n",
      "|listing_id|latitude|longitude|comments                                                                                                                                                                                                                                                                                                                                                                                                                                                                                                                                         |\n",
      "+----------+--------+---------+-------------------------------------------------------------------------------------------------------------------------------------------------------------------------------------------------------------------------------------------------------------------------------------------------------------------------------------------------------------------------------------------------------------------------------------------------------------------------------------------------------------------------------------------------+\n",
      "|18674     |41.40556|2.17262  |Great location. Clean, spacious flat. Would recommend to anyone.                                                                                                                                                                                                                                                                                                                                                                                                                                                                                 |\n",
      "|18674     |41.40556|2.17262  |Mi mejor recomendación para este departamento. Cuida todos los detalles, adicionalmente muy cómodo, limpio, funcional y situado perfectamente.                                                                                                                                                                                                                                                                                                                                                                                                   |\n",
      "|18674     |41.40556|2.17262  |Big apartment, well equipped.                                                                                                                                                                                                                                                                                                                                                                                                                                                                                                                    |\n",
      "|18674     |41.40556|2.17262  |The Check in was fast and flexible. The price is fair, because the flat ist big enough for 8 people if you are flexible as well. We were the in a time where it wasn't so hot outside, so I have no idea how hot it can get inside. This was my second Airbnb stay so I can't compare it so good with other apartments but I would wish me, that the owner, offers the guests more toilet paper  etc. . Because if it is a short stay, you don't want to buy all the staff in big packages. <br/>All in all we are very happy with this decision |\n",
      "|18674     |41.40556|2.17262  |Great location and enough space in the apartment for 7 people. Although the mattresses were a bit too soft and the house is quite noisy, its a solid choice for a big group of people for a weekend in barcelona.                                                                                                                                                                                                                                                                                                                                |\n",
      "+----------+--------+---------+-------------------------------------------------------------------------------------------------------------------------------------------------------------------------------------------------------------------------------------------------------------------------------------------------------------------------------------------------------------------------------------------------------------------------------------------------------------------------------------------------------------------------------------------------+\n",
      "only showing top 5 rows\n",
      "\n"
     ]
    }
   ],
   "source": [
    "# keep only id, latitude, longitude, and comments\n",
    "listings_reviews = listings_reviews.select(\n",
    "    \"listing_id\", \"latitude\", \"longitude\", \"comments\")\n",
    "listings_reviews.show(5, 0)\n"
   ]
  },
  {
   "cell_type": "markdown",
   "id": "15316741",
   "metadata": {},
   "source": [
    "## Cleaning the data"
   ]
  },
  {
   "cell_type": "markdown",
   "id": "c28a3bd5",
   "metadata": {},
   "source": [
    "## Sentiment Analysis"
   ]
  },
  {
   "cell_type": "code",
   "execution_count": 16,
   "id": "79cdf3df",
   "metadata": {},
   "outputs": [
    {
     "ename": "TypeError",
     "evalue": "'JavaPackage' object is not callable",
     "output_type": "error",
     "traceback": [
      "\u001b[0;31m---------------------------------------------------------------------------\u001b[0m",
      "\u001b[0;31mTypeError\u001b[0m                                 Traceback (most recent call last)",
      "Cell \u001b[0;32mIn[16], line 9\u001b[0m\n\u001b[1;32m      3\u001b[0m \u001b[38;5;28;01mfrom\u001b[39;00m \u001b[38;5;21;01msparknlp\u001b[39;00m\u001b[38;5;21;01m.\u001b[39;00m\u001b[38;5;21;01mannotator\u001b[39;00m \u001b[38;5;28;01mimport\u001b[39;00m (\n\u001b[1;32m      4\u001b[0m     UniversalSentenceEncoder,\n\u001b[1;32m      5\u001b[0m     SentimentDLModel\n\u001b[1;32m      6\u001b[0m )\n\u001b[1;32m      7\u001b[0m \u001b[38;5;28;01mimport\u001b[39;00m \u001b[38;5;21;01mpyspark\u001b[39;00m\u001b[38;5;21;01m.\u001b[39;00m\u001b[38;5;21;01msql\u001b[39;00m\u001b[38;5;21;01m.\u001b[39;00m\u001b[38;5;21;01mfunctions\u001b[39;00m \u001b[38;5;28;01mas\u001b[39;00m \u001b[38;5;21;01mF\u001b[39;00m\n\u001b[0;32m----> 9\u001b[0m documentAssembler \u001b[38;5;241m=\u001b[39m \u001b[43mDocumentAssembler\u001b[49m\u001b[43m(\u001b[49m\u001b[43m)\u001b[49m\\\n\u001b[1;32m     10\u001b[0m     \u001b[38;5;241m.\u001b[39msetInputCol(\u001b[38;5;124m\"\u001b[39m\u001b[38;5;124mtext\u001b[39m\u001b[38;5;124m\"\u001b[39m)\\\n\u001b[1;32m     11\u001b[0m     \u001b[38;5;241m.\u001b[39msetOutputCol(\u001b[38;5;124m\"\u001b[39m\u001b[38;5;124mdocument\u001b[39m\u001b[38;5;124m\"\u001b[39m)\n\u001b[1;32m     13\u001b[0m use \u001b[38;5;241m=\u001b[39m UniversalSentenceEncoder\u001b[38;5;241m.\u001b[39mpretrained(\u001b[38;5;124m\"\u001b[39m\u001b[38;5;124mtfhub_use\u001b[39m\u001b[38;5;124m\"\u001b[39m, \u001b[38;5;124m\"\u001b[39m\u001b[38;5;124men\u001b[39m\u001b[38;5;124m\"\u001b[39m)\\\n\u001b[1;32m     14\u001b[0m     \u001b[38;5;241m.\u001b[39msetInputCols([\u001b[38;5;124m\"\u001b[39m\u001b[38;5;124mdocument\u001b[39m\u001b[38;5;124m\"\u001b[39m])\\\n\u001b[1;32m     15\u001b[0m     \u001b[38;5;241m.\u001b[39msetOutputCol(\u001b[38;5;124m\"\u001b[39m\u001b[38;5;124msentence_embeddings\u001b[39m\u001b[38;5;124m\"\u001b[39m)\n\u001b[1;32m     17\u001b[0m sentimentdl \u001b[38;5;241m=\u001b[39m SentimentDLModel\u001b[38;5;241m.\u001b[39mpretrained(\u001b[38;5;124m\"\u001b[39m\u001b[38;5;124msentimentdl_use_twitter\u001b[39m\u001b[38;5;124m\"\u001b[39m, \u001b[38;5;124m\"\u001b[39m\u001b[38;5;124men\u001b[39m\u001b[38;5;124m\"\u001b[39m)\\\n\u001b[1;32m     18\u001b[0m     \u001b[38;5;241m.\u001b[39msetInputCols([\u001b[38;5;124m\"\u001b[39m\u001b[38;5;124msentence_embeddings\u001b[39m\u001b[38;5;124m\"\u001b[39m])\\\n\u001b[1;32m     19\u001b[0m     \u001b[38;5;241m.\u001b[39msetOutputCol(\u001b[38;5;124m\"\u001b[39m\u001b[38;5;124msentiment\u001b[39m\u001b[38;5;124m\"\u001b[39m)\n",
      "File \u001b[0;32m/usr/local/lib/python3.9/dist-packages/pyspark/__init__.py:110\u001b[0m, in \u001b[0;36mkeyword_only.<locals>.wrapper\u001b[0;34m(self, *args, **kwargs)\u001b[0m\n\u001b[1;32m    108\u001b[0m     \u001b[38;5;28;01mraise\u001b[39;00m \u001b[38;5;167;01mTypeError\u001b[39;00m(\u001b[38;5;124m\"\u001b[39m\u001b[38;5;124mMethod \u001b[39m\u001b[38;5;132;01m%s\u001b[39;00m\u001b[38;5;124m forces keyword arguments.\u001b[39m\u001b[38;5;124m\"\u001b[39m \u001b[38;5;241m%\u001b[39m func\u001b[38;5;241m.\u001b[39m\u001b[38;5;18m__name__\u001b[39m)\n\u001b[1;32m    109\u001b[0m \u001b[38;5;28mself\u001b[39m\u001b[38;5;241m.\u001b[39m_input_kwargs \u001b[38;5;241m=\u001b[39m kwargs\n\u001b[0;32m--> 110\u001b[0m \u001b[38;5;28;01mreturn\u001b[39;00m \u001b[43mfunc\u001b[49m\u001b[43m(\u001b[49m\u001b[38;5;28;43mself\u001b[39;49m\u001b[43m,\u001b[49m\u001b[43m \u001b[49m\u001b[38;5;241;43m*\u001b[39;49m\u001b[38;5;241;43m*\u001b[39;49m\u001b[43mkwargs\u001b[49m\u001b[43m)\u001b[49m\n",
      "File \u001b[0;32m/usr/local/lib/python3.9/dist-packages/sparknlp/base/document_assembler.py:96\u001b[0m, in \u001b[0;36mDocumentAssembler.__init__\u001b[0;34m(self)\u001b[0m\n\u001b[1;32m     94\u001b[0m \u001b[38;5;129m@keyword_only\u001b[39m\n\u001b[1;32m     95\u001b[0m \u001b[38;5;28;01mdef\u001b[39;00m \u001b[38;5;21m__init__\u001b[39m(\u001b[38;5;28mself\u001b[39m):\n\u001b[0;32m---> 96\u001b[0m     \u001b[38;5;28;43msuper\u001b[39;49m\u001b[43m(\u001b[49m\u001b[43mDocumentAssembler\u001b[49m\u001b[43m,\u001b[49m\u001b[43m \u001b[49m\u001b[38;5;28;43mself\u001b[39;49m\u001b[43m)\u001b[49m\u001b[38;5;241;43m.\u001b[39;49m\u001b[38;5;21;43m__init__\u001b[39;49m\u001b[43m(\u001b[49m\u001b[43mclassname\u001b[49m\u001b[38;5;241;43m=\u001b[39;49m\u001b[38;5;124;43m\"\u001b[39;49m\u001b[38;5;124;43mcom.johnsnowlabs.nlp.DocumentAssembler\u001b[39;49m\u001b[38;5;124;43m\"\u001b[39;49m\u001b[43m)\u001b[49m\n\u001b[1;32m     97\u001b[0m     \u001b[38;5;28mself\u001b[39m\u001b[38;5;241m.\u001b[39m_setDefault(outputCol\u001b[38;5;241m=\u001b[39m\u001b[38;5;124m\"\u001b[39m\u001b[38;5;124mdocument\u001b[39m\u001b[38;5;124m\"\u001b[39m, cleanupMode\u001b[38;5;241m=\u001b[39m\u001b[38;5;124m'\u001b[39m\u001b[38;5;124mdisabled\u001b[39m\u001b[38;5;124m'\u001b[39m)\n",
      "File \u001b[0;32m/usr/local/lib/python3.9/dist-packages/pyspark/__init__.py:110\u001b[0m, in \u001b[0;36mkeyword_only.<locals>.wrapper\u001b[0;34m(self, *args, **kwargs)\u001b[0m\n\u001b[1;32m    108\u001b[0m     \u001b[38;5;28;01mraise\u001b[39;00m \u001b[38;5;167;01mTypeError\u001b[39;00m(\u001b[38;5;124m\"\u001b[39m\u001b[38;5;124mMethod \u001b[39m\u001b[38;5;132;01m%s\u001b[39;00m\u001b[38;5;124m forces keyword arguments.\u001b[39m\u001b[38;5;124m\"\u001b[39m \u001b[38;5;241m%\u001b[39m func\u001b[38;5;241m.\u001b[39m\u001b[38;5;18m__name__\u001b[39m)\n\u001b[1;32m    109\u001b[0m \u001b[38;5;28mself\u001b[39m\u001b[38;5;241m.\u001b[39m_input_kwargs \u001b[38;5;241m=\u001b[39m kwargs\n\u001b[0;32m--> 110\u001b[0m \u001b[38;5;28;01mreturn\u001b[39;00m \u001b[43mfunc\u001b[49m\u001b[43m(\u001b[49m\u001b[38;5;28;43mself\u001b[39;49m\u001b[43m,\u001b[49m\u001b[43m \u001b[49m\u001b[38;5;241;43m*\u001b[39;49m\u001b[38;5;241;43m*\u001b[39;49m\u001b[43mkwargs\u001b[49m\u001b[43m)\u001b[49m\n",
      "File \u001b[0;32m/usr/local/lib/python3.9/dist-packages/sparknlp/internal/annotator_transformer.py:36\u001b[0m, in \u001b[0;36mAnnotatorTransformer.__init__\u001b[0;34m(self, classname)\u001b[0m\n\u001b[1;32m     34\u001b[0m \u001b[38;5;28mself\u001b[39m\u001b[38;5;241m.\u001b[39msetParams(\u001b[38;5;241m*\u001b[39m\u001b[38;5;241m*\u001b[39mkwargs)\n\u001b[1;32m     35\u001b[0m \u001b[38;5;28mself\u001b[39m\u001b[38;5;241m.\u001b[39m\u001b[38;5;18m__class__\u001b[39m\u001b[38;5;241m.\u001b[39m_java_class_name \u001b[38;5;241m=\u001b[39m classname\n\u001b[0;32m---> 36\u001b[0m \u001b[38;5;28mself\u001b[39m\u001b[38;5;241m.\u001b[39m_java_obj \u001b[38;5;241m=\u001b[39m \u001b[38;5;28;43mself\u001b[39;49m\u001b[38;5;241;43m.\u001b[39;49m\u001b[43m_new_java_obj\u001b[49m\u001b[43m(\u001b[49m\u001b[43mclassname\u001b[49m\u001b[43m,\u001b[49m\u001b[43m \u001b[49m\u001b[38;5;28;43mself\u001b[39;49m\u001b[38;5;241;43m.\u001b[39;49m\u001b[43muid\u001b[49m\u001b[43m)\u001b[49m\n",
      "File \u001b[0;32m/usr/local/lib/python3.9/dist-packages/pyspark/ml/wrapper.py:69\u001b[0m, in \u001b[0;36mJavaWrapper._new_java_obj\u001b[0;34m(java_class, *args)\u001b[0m\n\u001b[1;32m     67\u001b[0m     java_obj \u001b[38;5;241m=\u001b[39m \u001b[38;5;28mgetattr\u001b[39m(java_obj, name)\n\u001b[1;32m     68\u001b[0m java_args \u001b[38;5;241m=\u001b[39m [_py2java(sc, arg) \u001b[38;5;28;01mfor\u001b[39;00m arg \u001b[38;5;129;01min\u001b[39;00m args]\n\u001b[0;32m---> 69\u001b[0m \u001b[38;5;28;01mreturn\u001b[39;00m \u001b[43mjava_obj\u001b[49m\u001b[43m(\u001b[49m\u001b[38;5;241;43m*\u001b[39;49m\u001b[43mjava_args\u001b[49m\u001b[43m)\u001b[49m\n",
      "\u001b[0;31mTypeError\u001b[0m: 'JavaPackage' object is not callable"
     ]
    }
   ],
   "source": [
    "# Import the required modules and classes\n",
    "from sparknlp.base import DocumentAssembler, Pipeline\n",
    "from sparknlp.annotator import (\n",
    "    UniversalSentenceEncoder,\n",
    "    SentimentDLModel\n",
    ")\n",
    "import pyspark.sql.functions as F\n",
    "\n",
    "documentAssembler = DocumentAssembler().setInputCol(\"text\").setOutputCol(\"document\")\n",
    "\n",
    "use = UniversalSentenceEncoder.pretrained(\"tfhub_use\", \"en\")\\\n",
    "    .setInputCols([\"document\"])\\\n",
    "    .setOutputCol(\"sentence_embeddings\")\n",
    "\n",
    "sentimentdl = SentimentDLModel.pretrained(\"sentimentdl_use_twitter\", \"en\")\\\n",
    "    .setInputCols([\"sentence_embeddings\"])\\\n",
    "    .setOutputCol(\"sentiment\")\n",
    "\n",
    "nlpPipeline = Pipeline(\n",
    "    stages=[\n",
    "        documentAssembler,\n",
    "        use,\n",
    "        sentimentdl\n",
    "    ])\n",
    "\n",
    "text_list = [\n",
    "    \"\"\"@Mbjthegreat i really dont want AT&amp;T phone service..they suck when it comes to having a signal\"\"\",\n",
    "    \"\"\"holy crap. I take a nap for 4 hours and Pitchfork blows up my twitter dashboard. I wish I was at Coachella.\"\"\",\n",
    "    \"\"\"@Susy412 he is working today  ive tried that still not working..... hmmmm!! im rubbish with computers haha!\"\"\",\n",
    "    \"\"\"Brand New Canon EOS 50D 15MP DSLR Camera Canon 17-85mm IS Lens ...: Web Technology Thread, Brand New Canon EOS 5.. http://u.mavrev.com/5a3t\"\"\",\n",
    "    \"\"\"Watching a programme about the life of Hitler, its only enhancing my geekiness of history.\"\"\",\n",
    "    \"\"\"GM says expects announcment on sale of Hummer soon - Reuters: WDSUGM says expects announcment on sale of Hummer .. http://bit.ly/4E1Fv\"\"\",\n",
    "    \"\"\"@accannis @edog1203 Great Stanford course. Thanks for making it available to the public! Really helpful and informative for starting off!\"\"\",\n",
    "    \"\"\"@the_real_usher LeBron is cool.  I like his personality...he has good character.\"\"\",\n",
    "    \"\"\"@sketchbug Lebron is a hometown hero to me, lol I love the Lakers but let's go Cavs, lol\"\"\",\n",
    "    \"\"\"@PDubyaD right!!! LOL we'll get there!! I have high expectations, Warren Buffet style.\"\"\",\n",
    "]\n"
   ]
  },
  {
   "cell_type": "code",
   "execution_count": null,
   "id": "6eed8106",
   "metadata": {},
   "outputs": [],
   "source": [
    "empty_df = spark.createDataFrame([['']]).toDF(\"text\")\n",
    "\n",
    "model = nlpPipeline.fit(empty_df)\n",
    "\n",
    "df = spark.createDataFrame(pd.DataFrame({\"text\":text_list}))\n",
    "result = model.transform(df)"
   ]
  }
 ],
 "metadata": {
  "kernelspec": {
   "display_name": "Python 3 (ipykernel)",
   "language": "python",
   "name": "python3"
  },
  "language_info": {
   "codemirror_mode": {
    "name": "ipython",
    "version": 3
   },
   "file_extension": ".py",
   "mimetype": "text/x-python",
   "name": "python",
   "nbconvert_exporter": "python",
   "pygments_lexer": "ipython3",
   "version": "3.9.2"
  }
 },
 "nbformat": 4,
 "nbformat_minor": 5
}
