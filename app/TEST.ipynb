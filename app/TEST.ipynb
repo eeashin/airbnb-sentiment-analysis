{
 "cells": [
  {
   "cell_type": "markdown",
   "id": "d2bc19e0",
   "metadata": {},
   "source": [
    "# Leveraging Sentiment Analysis to Improve Airbnb Visualization Maps"
   ]
  },
  {
   "cell_type": "markdown",
   "id": "b09459d2",
   "metadata": {},
   "source": [
    "## Loading data"
   ]
  },
  {
   "cell_type": "code",
   "execution_count": 2,
   "id": "61145852-4ecf-43b2-b8c4-ea63bf089916",
   "metadata": {},
   "outputs": [
    {
     "name": "stdout",
     "output_type": "stream",
     "text": [
      "+------+--------------------------------------------------------------------------+-------+----------------+-------------------+----------------------------------+-----------------+-----------------+---------------+-----+--------------+-----------------+-----------+-----------------+------------------------------+----------------+---------------------+-----------+\n",
      "|id    |name                                                                      |host_id|host_name       |neighbourhood_group|neighbourhood                     |latitude         |longitude        |room_type      |price|minimum_nights|number_of_reviews|last_review|reviews_per_month|calculated_host_listings_count|availability_365|number_of_reviews_ltm|license    |\n",
      "+------+--------------------------------------------------------------------------+-------+----------------+-------------------+----------------------------------+-----------------+-----------------+---------------+-----+--------------+-----------------+-----------+-----------------+------------------------------+----------------+---------------------+-----------+\n",
      "|18674 |Rental unit in Barcelona · ★4.30 · 3 bedrooms · 6 beds · 2 baths          |71615  |Mireia And Maria|Eixample           |la Sagrada Família                |41.40556         |2.17262          |Entire home/apt|202  |1             |38               |2023-06-26 |0.30             |30                            |34              |8                    |HUTB-002062|\n",
      "|23197 |Rental unit in Sant Adria de Besos · ★4.77 · 3 bedrooms · 4 beds · 2 baths|90417  |Etain (Marnie)  |Sant Martí         |el Besòs i el Maresme             |41.41243172529066|2.219750335269476|Entire home/apt|255  |3             |73               |2023-08-15 |0.48             |2                             |150             |11                   |HUTB005057 |\n",
      "|32711 |Rental unit in Barcelona · ★4.46 · 2 bedrooms · 3 beds · 1.5 baths        |135703 |Nick            |Gràcia             |el Camp d'en Grassot i Gràcia Nova|41.40566         |2.17015          |Entire home/apt|171  |21            |95               |2023-08-18 |0.64             |3                             |310             |21                   |HUTB-001722|\n",
      "|171646|Rental unit in Barcelona · ★4.81 · 2 bedrooms · 2 beds · 1 bath           |400154 |Mireia          |Sant Martí         |el Clot                           |41.40671         |2.18592          |Entire home/apt|152  |3             |81               |2023-08-27 |0.65             |9                             |58              |22                   |HUTB-004663|\n",
      "|171816|Rental unit in Barcelona · ★4.71 · 2 bedrooms · 3 beds · 1 bath           |400154 |Mireia          |Sant Martí         |el Clot                           |41.40681         |2.18553          |Entire home/apt|150  |3             |49               |2023-08-27 |0.39             |9                             |67              |27                   |HUTB-004664|\n",
      "+------+--------------------------------------------------------------------------+-------+----------------+-------------------+----------------------------------+-----------------+-----------------+---------------+-----+--------------+-----------------+-----------+-----------------+------------------------------+----------------+---------------------+-----------+\n",
      "only showing top 5 rows\n",
      "\n",
      "MongoClient(host=['localhost:27017'], document_class=dict, tz_aware=False, connect=True)\n"
     ]
    }
   ],
   "source": [
    "import pyspark\n",
    "import pymongo\n",
    "from pyspark.sql import SparkSession\n",
    "spark = SparkSession.builder.appName(\"Datacamp Pyspark Tutorial\").config(\"spark.memory.offHeap.enabled\",\"true\").config(\"spark.memory.offHeap.size\",\"10g\").getOrCreate()\n",
    "df = spark.read.csv('./data/listings.csv', header=True, escape=\"\\\"\")\n",
    "df.show(5,0)\n",
    "\n",
    "client = pymongo.MongoClient(\"localhost\", 27017)\n",
    "\n",
    "print(client)\n"
   ]
  },
  {
   "cell_type": "code",
   "execution_count": 3,
   "id": "7759314f-58a6-4e1d-a98f-bcda8ea5dd24",
   "metadata": {},
   "outputs": [
    {
     "name": "stdout",
     "output_type": "stream",
     "text": [
      "THE SUM IS HERE:  4950\n"
     ]
    }
   ],
   "source": [
    "# Import the necessary modules\n",
    "from pyspark.sql import SparkSession\n",
    "from pyspark.sql.functions import *\n",
    "\n",
    "# https://github.com/RWaltersMA/mongo-spark-jupyter\n",
    "# master(\"spark://spark-master:7077\") --> If you add this master to the builder the master worker stops ...  :(\n",
    "# Create a SparkSession\n",
    "spark = SparkSession \\\n",
    "    .builder \\\n",
    "    .appName(\"pyspark-notebook2\") \\\n",
    "    .config(\"spark.executor.memory\", \"1g\") \\\n",
    "    .config(\"spark.mongodb.input.uri\", \"mongodb://mongo:27017\") \\\n",
    "    .config(\"spark.mongodb.output.uri\", \"mongodb://mongo:27017\") \\\n",
    "    .config(\"spark.jars.packages\", \"org.mongodb.spark:mongo-spark-connector_2.12:3.0.0\") \\\n",
    "    .getOrCreate()\n",
    "\n",
    "rdd = spark.sparkContext.parallelize(range(1, 100))\n",
    "\n",
    "print(\"THE SUM IS HERE: \", rdd.sum())\n",
    "# Stop the SparkSession\n",
    "spark.stop()"
   ]
  },
  {
   "cell_type": "code",
   "execution_count": null,
   "id": "9df7d815",
   "metadata": {},
   "outputs": [],
   "source": []
  },
  {
   "cell_type": "code",
   "execution_count": 4,
   "id": "d104e949-bfdc-4836-b6d6-6ab20acbb5ec",
   "metadata": {},
   "outputs": [],
   "source": [
    "# Import the necessary modules\n",
    "from pyspark.sql import SparkSession\n",
    "from pyspark.sql.functions import *\n",
    "\n",
    "# https://github.com/RWaltersMA/mongo-spark-jupyter\n",
    "# master(\"spark://spark-master:7077\") --> If you add this master to the builder the master worker stops ...  :(\n",
    "# Create a SparkSession\n",
    "spark = SparkSession \\\n",
    "    .builder \\\n",
    "    .appName(\"pyspark-notebook2\") \\\n",
    "    .config(\"spark.executor.memory\", \"1g\") \\\n",
    "    .config(\"spark.mongodb.input.uri\", \"mongodb://mongo:27017\") \\\n",
    "    .config(\"spark.mongodb.output.uri\", \"mongodb://mongo:27017\") \\\n",
    "    .config(\"spark.jars.packages\", \"org.mongodb.spark:mongo-spark-connector_2.12:3.0.0\") \\\n",
    "    .getOrCreate()\n"
   ]
  },
  {
   "cell_type": "code",
   "execution_count": 5,
   "id": "e73ce3d8",
   "metadata": {},
   "outputs": [
    {
     "name": "stdout",
     "output_type": "stream",
     "text": [
      "+------+--------------------------------------------------------------------------+-------+----------------+-------------------+----------------------------------+-----------------+-----------------+---------------+-----+--------------+-----------------+-----------+-----------------+------------------------------+----------------+---------------------+-----------+\n",
      "|id    |name                                                                      |host_id|host_name       |neighbourhood_group|neighbourhood                     |latitude         |longitude        |room_type      |price|minimum_nights|number_of_reviews|last_review|reviews_per_month|calculated_host_listings_count|availability_365|number_of_reviews_ltm|license    |\n",
      "+------+--------------------------------------------------------------------------+-------+----------------+-------------------+----------------------------------+-----------------+-----------------+---------------+-----+--------------+-----------------+-----------+-----------------+------------------------------+----------------+---------------------+-----------+\n",
      "|18674 |Rental unit in Barcelona · ★4.30 · 3 bedrooms · 6 beds · 2 baths          |71615  |Mireia And Maria|Eixample           |la Sagrada Família                |41.40556         |2.17262          |Entire home/apt|202  |1             |38               |2023-06-26 |0.30             |30                            |34              |8                    |HUTB-002062|\n",
      "|23197 |Rental unit in Sant Adria de Besos · ★4.77 · 3 bedrooms · 4 beds · 2 baths|90417  |Etain (Marnie)  |Sant Martí         |el Besòs i el Maresme             |41.41243172529066|2.219750335269476|Entire home/apt|255  |3             |73               |2023-08-15 |0.48             |2                             |150             |11                   |HUTB005057 |\n",
      "|32711 |Rental unit in Barcelona · ★4.46 · 2 bedrooms · 3 beds · 1.5 baths        |135703 |Nick            |Gràcia             |el Camp d'en Grassot i Gràcia Nova|41.40566         |2.17015          |Entire home/apt|171  |21            |95               |2023-08-18 |0.64             |3                             |310             |21                   |HUTB-001722|\n",
      "|171646|Rental unit in Barcelona · ★4.81 · 2 bedrooms · 2 beds · 1 bath           |400154 |Mireia          |Sant Martí         |el Clot                           |41.40671         |2.18592          |Entire home/apt|152  |3             |81               |2023-08-27 |0.65             |9                             |58              |22                   |HUTB-004663|\n",
      "|171816|Rental unit in Barcelona · ★4.71 · 2 bedrooms · 3 beds · 1 bath           |400154 |Mireia          |Sant Martí         |el Clot                           |41.40681         |2.18553          |Entire home/apt|150  |3             |49               |2023-08-27 |0.39             |9                             |67              |27                   |HUTB-004664|\n",
      "+------+--------------------------------------------------------------------------+-------+----------------+-------------------+----------------------------------+-----------------+-----------------+---------------+-----+--------------+-----------------+-----------+-----------------+------------------------------+----------------+---------------------+-----------+\n",
      "only showing top 5 rows\n",
      "\n",
      "Number of rows:  18086\n"
     ]
    }
   ],
   "source": [
    "listings = spark.read.csv('./data/listings.csv', header=True, escape=\"\\\"\")\n",
    "listings.show(5, 0)\n",
    "\n",
    "print(\"Number of rows: \", listings.count())\n"
   ]
  },
  {
   "cell_type": "code",
   "execution_count": 6,
   "id": "23c14723",
   "metadata": {},
   "outputs": [
    {
     "name": "stdout",
     "output_type": "stream",
     "text": [
      "+----------------------+--------------------+----------+-----------+-------------+-----------------------------------------------------------------------------------------------------------------------------------------------+\n",
      "|listing_id            |id                  |date      |reviewer_id|reviewer_name|comments                                                                                                                                       |\n",
      "+----------------------+--------------------+----------+-----------+-------------+-----------------------------------------------------------------------------------------------------------------------------------------------+\n",
      "|18674                 |4808211             |2013-05-27|4841196    |Caron        |Great location. Clean, spacious flat. Would recommend to anyone.                                                                               |\n",
      "|18674                 |10660311            |2014-03-02|11600277   |Juan Carlos  |Mi mejor recomendación para este departamento. Cuida todos los detalles, adicionalmente muy cómodo, limpio, funcional y situado perfectamente. |\n",
      "|18674                 |41087522            |2015-08-04|35231385   |Shlomi       |Big apartment, well equipped.                                                                                                                  |\n",
      "|<br/>Very good service| excellent location.|NULL      |NULL       |NULL         |NULL                                                                                                                                           |\n",
      "|<br/>Recommended.\"    |NULL                |NULL      |NULL       |NULL         |NULL                                                                                                                                           |\n",
      "+----------------------+--------------------+----------+-----------+-------------+-----------------------------------------------------------------------------------------------------------------------------------------------+\n",
      "only showing top 5 rows\n",
      "\n",
      "Number of rows:  845479\n"
     ]
    }
   ],
   "source": [
    "reviews = spark.read.csv('./data/reviews.csv', header=True, escape=\"\\\"\")\n",
    "reviews.show(5, 0)\n",
    "\n",
    "print(\"Number of rows: \", reviews.count())\n"
   ]
  },
  {
   "cell_type": "code",
   "execution_count": 7,
   "id": "1e47fb11",
   "metadata": {},
   "outputs": [
    {
     "name": "stdout",
     "output_type": "stream",
     "text": [
      "+-----+----------------------------------------------------------------+-------+----------------+-------------------+------------------+--------+---------+---------------+-----+--------------+-----------------+-----------+-----------------+------------------------------+----------------+---------------------+-----------+----------+---------+----------+-----------+-------------+-------------------------------------------------------------------------------------------------------------------------------------------------------------------------------------------------------------------------------------------------------------------------------------------------------------------------------------------------------------------------------------------------------------------------------------------------------------------------------------------------------------------------------------------------+\n",
      "|id   |name                                                            |host_id|host_name       |neighbourhood_group|neighbourhood     |latitude|longitude|room_type      |price|minimum_nights|number_of_reviews|last_review|reviews_per_month|calculated_host_listings_count|availability_365|number_of_reviews_ltm|license    |listing_id|id       |date      |reviewer_id|reviewer_name|comments                                                                                                                                                                                                                                                                                                                                                                                                                                                                                                                                         |\n",
      "+-----+----------------------------------------------------------------+-------+----------------+-------------------+------------------+--------+---------+---------------+-----+--------------+-----------------+-----------+-----------------+------------------------------+----------------+---------------------+-----------+----------+---------+----------+-----------+-------------+-------------------------------------------------------------------------------------------------------------------------------------------------------------------------------------------------------------------------------------------------------------------------------------------------------------------------------------------------------------------------------------------------------------------------------------------------------------------------------------------------------------------------------------------------+\n",
      "|18674|Rental unit in Barcelona · ★4.30 · 3 bedrooms · 6 beds · 2 baths|71615  |Mireia And Maria|Eixample           |la Sagrada Família|41.40556|2.17262  |Entire home/apt|202  |1             |38               |2023-06-26 |0.30             |30                            |34              |8                    |HUTB-002062|18674     |4808211  |2013-05-27|4841196    |Caron        |Great location. Clean, spacious flat. Would recommend to anyone.                                                                                                                                                                                                                                                                                                                                                                                                                                                                                 |\n",
      "|18674|Rental unit in Barcelona · ★4.30 · 3 bedrooms · 6 beds · 2 baths|71615  |Mireia And Maria|Eixample           |la Sagrada Família|41.40556|2.17262  |Entire home/apt|202  |1             |38               |2023-06-26 |0.30             |30                            |34              |8                    |HUTB-002062|18674     |10660311 |2014-03-02|11600277   |Juan Carlos  |Mi mejor recomendación para este departamento. Cuida todos los detalles, adicionalmente muy cómodo, limpio, funcional y situado perfectamente.                                                                                                                                                                                                                                                                                                                                                                                                   |\n",
      "|18674|Rental unit in Barcelona · ★4.30 · 3 bedrooms · 6 beds · 2 baths|71615  |Mireia And Maria|Eixample           |la Sagrada Família|41.40556|2.17262  |Entire home/apt|202  |1             |38               |2023-06-26 |0.30             |30                            |34              |8                    |HUTB-002062|18674     |41087522 |2015-08-04|35231385   |Shlomi       |Big apartment, well equipped.                                                                                                                                                                                                                                                                                                                                                                                                                                                                                                                    |\n",
      "|18674|Rental unit in Barcelona · ★4.30 · 3 bedrooms · 6 beds · 2 baths|71615  |Mireia And Maria|Eixample           |la Sagrada Família|41.40556|2.17262  |Entire home/apt|202  |1             |38               |2023-06-26 |0.30             |30                            |34              |8                    |HUTB-002062|18674     |81000756 |2016-06-20|23223644   |Joost        |The Check in was fast and flexible. The price is fair, because the flat ist big enough for 8 people if you are flexible as well. We were the in a time where it wasn't so hot outside, so I have no idea how hot it can get inside. This was my second Airbnb stay so I can't compare it so good with other apartments but I would wish me, that the owner, offers the guests more toilet paper  etc. . Because if it is a short stay, you don't want to buy all the staff in big packages. <br/>All in all we are very happy with this decision |\n",
      "|18674|Rental unit in Barcelona · ★4.30 · 3 bedrooms · 6 beds · 2 baths|71615  |Mireia And Maria|Eixample           |la Sagrada Família|41.40556|2.17262  |Entire home/apt|202  |1             |38               |2023-06-26 |0.30             |30                            |34              |8                    |HUTB-002062|18674     |278588962|2018-06-18|4756672    |Marius       |Great location and enough space in the apartment for 7 people. Although the mattresses were a bit too soft and the house is quite noisy, its a solid choice for a big group of people for a weekend in barcelona.                                                                                                                                                                                                                                                                                                                                |\n",
      "+-----+----------------------------------------------------------------+-------+----------------+-------------------+------------------+--------+---------+---------------+-----+--------------+-----------------+-----------+-----------------+------------------------------+----------------+---------------------+-----------+----------+---------+----------+-----------+-------------+-------------------------------------------------------------------------------------------------------------------------------------------------------------------------------------------------------------------------------------------------------------------------------------------------------------------------------------------------------------------------------------------------------------------------------------------------------------------------------------------------------------------------------------------------+\n",
      "only showing top 5 rows\n",
      "\n",
      "Number of rows:  763592\n"
     ]
    }
   ],
   "source": [
    "# join listings and reviews on the id and listing_id columns\n",
    "listings_reviews = listings.join(reviews, listings.id == reviews.listing_id)\n",
    "listings_reviews.show(5, 0)\n",
    "\n",
    "print(\"Number of rows: \", listings_reviews.count())\n"
   ]
  },
  {
   "cell_type": "code",
   "execution_count": 8,
   "id": "1245c60c",
   "metadata": {},
   "outputs": [
    {
     "name": "stdout",
     "output_type": "stream",
     "text": [
      "+----------+--------+---------+-------------------------------------------------------------------------------------------------------------------------------------------------------------------------------------------------------------------------------------------------------------------------------------------------------------------------------------------------------------------------------------------------------------------------------------------------------------------------------------------------------------------------------------------------+\n",
      "|listing_id|latitude|longitude|comments                                                                                                                                                                                                                                                                                                                                                                                                                                                                                                                                         |\n",
      "+----------+--------+---------+-------------------------------------------------------------------------------------------------------------------------------------------------------------------------------------------------------------------------------------------------------------------------------------------------------------------------------------------------------------------------------------------------------------------------------------------------------------------------------------------------------------------------------------------------+\n",
      "|18674     |41.40556|2.17262  |Great location. Clean, spacious flat. Would recommend to anyone.                                                                                                                                                                                                                                                                                                                                                                                                                                                                                 |\n",
      "|18674     |41.40556|2.17262  |Mi mejor recomendación para este departamento. Cuida todos los detalles, adicionalmente muy cómodo, limpio, funcional y situado perfectamente.                                                                                                                                                                                                                                                                                                                                                                                                   |\n",
      "|18674     |41.40556|2.17262  |Big apartment, well equipped.                                                                                                                                                                                                                                                                                                                                                                                                                                                                                                                    |\n",
      "|18674     |41.40556|2.17262  |The Check in was fast and flexible. The price is fair, because the flat ist big enough for 8 people if you are flexible as well. We were the in a time where it wasn't so hot outside, so I have no idea how hot it can get inside. This was my second Airbnb stay so I can't compare it so good with other apartments but I would wish me, that the owner, offers the guests more toilet paper  etc. . Because if it is a short stay, you don't want to buy all the staff in big packages. <br/>All in all we are very happy with this decision |\n",
      "|18674     |41.40556|2.17262  |Great location and enough space in the apartment for 7 people. Although the mattresses were a bit too soft and the house is quite noisy, its a solid choice for a big group of people for a weekend in barcelona.                                                                                                                                                                                                                                                                                                                                |\n",
      "+----------+--------+---------+-------------------------------------------------------------------------------------------------------------------------------------------------------------------------------------------------------------------------------------------------------------------------------------------------------------------------------------------------------------------------------------------------------------------------------------------------------------------------------------------------------------------------------------------------+\n",
      "only showing top 5 rows\n",
      "\n"
     ]
    }
   ],
   "source": [
    "# keep only id, latitude, longitude, and comments\n",
    "listings_reviews = listings_reviews.select(\n",
    "    \"listing_id\", \"latitude\", \"longitude\", \"comments\")\n",
    "listings_reviews.show(5, 0)\n"
   ]
  },
  {
   "cell_type": "markdown",
   "id": "53dc5d48",
   "metadata": {},
   "source": [
    "## Cleaning the data"
   ]
  },
  {
   "cell_type": "markdown",
   "id": "f702084a",
   "metadata": {},
   "source": [
    "## Sentiment Analysis"
   ]
  },
  {
   "cell_type": "code",
   "execution_count": 13,
   "id": "ef260f2c",
   "metadata": {},
   "outputs": [
    {
     "ename": "TypeError",
     "evalue": "'JavaPackage' object is not callable",
     "output_type": "error",
     "traceback": [
      "\u001b[0;31m---------------------------------------------------------------------------\u001b[0m",
      "\u001b[0;31mTypeError\u001b[0m                                 Traceback (most recent call last)",
      "\u001b[1;32m/Users/matteocirca/projects/airbnb-sentiment-analysis/app/TEST.ipynb Cell 13\u001b[0m line \u001b[0;36m1\n\u001b[1;32m      <a href='vscode-notebook-cell:/Users/matteocirca/projects/airbnb-sentiment-analysis/app/TEST.ipynb#X15sZmlsZQ%3D%3D?line=5'>6</a>\u001b[0m \u001b[39mfrom\u001b[39;00m \u001b[39msparknlp\u001b[39;00m\u001b[39m.\u001b[39;00m\u001b[39mannotator\u001b[39;00m \u001b[39mimport\u001b[39;00m (\n\u001b[1;32m      <a href='vscode-notebook-cell:/Users/matteocirca/projects/airbnb-sentiment-analysis/app/TEST.ipynb#X15sZmlsZQ%3D%3D?line=6'>7</a>\u001b[0m     UniversalSentenceEncoder,\n\u001b[1;32m      <a href='vscode-notebook-cell:/Users/matteocirca/projects/airbnb-sentiment-analysis/app/TEST.ipynb#X15sZmlsZQ%3D%3D?line=7'>8</a>\u001b[0m     SentimentDLModel\n\u001b[1;32m      <a href='vscode-notebook-cell:/Users/matteocirca/projects/airbnb-sentiment-analysis/app/TEST.ipynb#X15sZmlsZQ%3D%3D?line=8'>9</a>\u001b[0m )\n\u001b[1;32m     <a href='vscode-notebook-cell:/Users/matteocirca/projects/airbnb-sentiment-analysis/app/TEST.ipynb#X15sZmlsZQ%3D%3D?line=9'>10</a>\u001b[0m \u001b[39mimport\u001b[39;00m \u001b[39mpyspark\u001b[39;00m\u001b[39m.\u001b[39;00m\u001b[39msql\u001b[39;00m\u001b[39m.\u001b[39;00m\u001b[39mfunctions\u001b[39;00m \u001b[39mas\u001b[39;00m \u001b[39mF\u001b[39;00m\n\u001b[0;32m---> <a href='vscode-notebook-cell:/Users/matteocirca/projects/airbnb-sentiment-analysis/app/TEST.ipynb#X15sZmlsZQ%3D%3D?line=11'>12</a>\u001b[0m documentAssembler \u001b[39m=\u001b[39m DocumentAssembler()\\\n\u001b[1;32m     <a href='vscode-notebook-cell:/Users/matteocirca/projects/airbnb-sentiment-analysis/app/TEST.ipynb#X15sZmlsZQ%3D%3D?line=12'>13</a>\u001b[0m     \u001b[39m.\u001b[39msetInputCol(\u001b[39m\"\u001b[39m\u001b[39mtext\u001b[39m\u001b[39m\"\u001b[39m)\\\n\u001b[1;32m     <a href='vscode-notebook-cell:/Users/matteocirca/projects/airbnb-sentiment-analysis/app/TEST.ipynb#X15sZmlsZQ%3D%3D?line=13'>14</a>\u001b[0m     \u001b[39m.\u001b[39msetOutputCol(\u001b[39m\"\u001b[39m\u001b[39mdocument\u001b[39m\u001b[39m\"\u001b[39m)\n\u001b[1;32m     <a href='vscode-notebook-cell:/Users/matteocirca/projects/airbnb-sentiment-analysis/app/TEST.ipynb#X15sZmlsZQ%3D%3D?line=15'>16</a>\u001b[0m use \u001b[39m=\u001b[39m UniversalSentenceEncoder\u001b[39m.\u001b[39mpretrained(\u001b[39m\"\u001b[39m\u001b[39mtfhub_use\u001b[39m\u001b[39m\"\u001b[39m, \u001b[39m\"\u001b[39m\u001b[39men\u001b[39m\u001b[39m\"\u001b[39m)\\\n\u001b[1;32m     <a href='vscode-notebook-cell:/Users/matteocirca/projects/airbnb-sentiment-analysis/app/TEST.ipynb#X15sZmlsZQ%3D%3D?line=16'>17</a>\u001b[0m     \u001b[39m.\u001b[39msetInputCols([\u001b[39m\"\u001b[39m\u001b[39mdocument\u001b[39m\u001b[39m\"\u001b[39m])\\\n\u001b[1;32m     <a href='vscode-notebook-cell:/Users/matteocirca/projects/airbnb-sentiment-analysis/app/TEST.ipynb#X15sZmlsZQ%3D%3D?line=17'>18</a>\u001b[0m     \u001b[39m.\u001b[39msetOutputCol(\u001b[39m\"\u001b[39m\u001b[39msentence_embeddings\u001b[39m\u001b[39m\"\u001b[39m)\n\u001b[1;32m     <a href='vscode-notebook-cell:/Users/matteocirca/projects/airbnb-sentiment-analysis/app/TEST.ipynb#X15sZmlsZQ%3D%3D?line=19'>20</a>\u001b[0m sentimentdl \u001b[39m=\u001b[39m SentimentDLModel\u001b[39m.\u001b[39mpretrained(\u001b[39m\"\u001b[39m\u001b[39msentimentdl_use_twitter\u001b[39m\u001b[39m\"\u001b[39m, \u001b[39m\"\u001b[39m\u001b[39men\u001b[39m\u001b[39m\"\u001b[39m)\\\n\u001b[1;32m     <a href='vscode-notebook-cell:/Users/matteocirca/projects/airbnb-sentiment-analysis/app/TEST.ipynb#X15sZmlsZQ%3D%3D?line=20'>21</a>\u001b[0m     \u001b[39m.\u001b[39msetInputCols([\u001b[39m\"\u001b[39m\u001b[39msentence_embeddings\u001b[39m\u001b[39m\"\u001b[39m])\\\n\u001b[1;32m     <a href='vscode-notebook-cell:/Users/matteocirca/projects/airbnb-sentiment-analysis/app/TEST.ipynb#X15sZmlsZQ%3D%3D?line=21'>22</a>\u001b[0m     \u001b[39m.\u001b[39msetOutputCol(\u001b[39m\"\u001b[39m\u001b[39msentiment\u001b[39m\u001b[39m\"\u001b[39m)\n",
      "File \u001b[0;32m/usr/local/spark/python/pyspark/__init__.py:139\u001b[0m, in \u001b[0;36mkeyword_only.<locals>.wrapper\u001b[0;34m(self, *args, **kwargs)\u001b[0m\n\u001b[1;32m    137\u001b[0m     \u001b[39mraise\u001b[39;00m \u001b[39mTypeError\u001b[39;00m(\u001b[39m\"\u001b[39m\u001b[39mMethod \u001b[39m\u001b[39m%s\u001b[39;00m\u001b[39m forces keyword arguments.\u001b[39m\u001b[39m\"\u001b[39m \u001b[39m%\u001b[39m func\u001b[39m.\u001b[39m\u001b[39m__name__\u001b[39m)\n\u001b[1;32m    138\u001b[0m \u001b[39mself\u001b[39m\u001b[39m.\u001b[39m_input_kwargs \u001b[39m=\u001b[39m kwargs\n\u001b[0;32m--> 139\u001b[0m \u001b[39mreturn\u001b[39;00m func(\u001b[39mself\u001b[39;49m, \u001b[39m*\u001b[39;49m\u001b[39m*\u001b[39;49mkwargs)\n",
      "File \u001b[0;32m/opt/conda/lib/python3.11/site-packages/sparknlp/base/document_assembler.py:96\u001b[0m, in \u001b[0;36mDocumentAssembler.__init__\u001b[0;34m(self)\u001b[0m\n\u001b[1;32m     94\u001b[0m \u001b[39m@keyword_only\u001b[39m\n\u001b[1;32m     95\u001b[0m \u001b[39mdef\u001b[39;00m \u001b[39m__init__\u001b[39m(\u001b[39mself\u001b[39m):\n\u001b[0;32m---> 96\u001b[0m     \u001b[39msuper\u001b[39;49m(DocumentAssembler, \u001b[39mself\u001b[39;49m)\u001b[39m.\u001b[39;49m\u001b[39m__init__\u001b[39;49m(classname\u001b[39m=\u001b[39;49m\u001b[39m\"\u001b[39;49m\u001b[39mcom.johnsnowlabs.nlp.DocumentAssembler\u001b[39;49m\u001b[39m\"\u001b[39;49m)\n\u001b[1;32m     97\u001b[0m     \u001b[39mself\u001b[39m\u001b[39m.\u001b[39m_setDefault(outputCol\u001b[39m=\u001b[39m\u001b[39m\"\u001b[39m\u001b[39mdocument\u001b[39m\u001b[39m\"\u001b[39m, cleanupMode\u001b[39m=\u001b[39m\u001b[39m'\u001b[39m\u001b[39mdisabled\u001b[39m\u001b[39m'\u001b[39m)\n",
      "File \u001b[0;32m/usr/local/spark/python/pyspark/__init__.py:139\u001b[0m, in \u001b[0;36mkeyword_only.<locals>.wrapper\u001b[0;34m(self, *args, **kwargs)\u001b[0m\n\u001b[1;32m    137\u001b[0m     \u001b[39mraise\u001b[39;00m \u001b[39mTypeError\u001b[39;00m(\u001b[39m\"\u001b[39m\u001b[39mMethod \u001b[39m\u001b[39m%s\u001b[39;00m\u001b[39m forces keyword arguments.\u001b[39m\u001b[39m\"\u001b[39m \u001b[39m%\u001b[39m func\u001b[39m.\u001b[39m\u001b[39m__name__\u001b[39m)\n\u001b[1;32m    138\u001b[0m \u001b[39mself\u001b[39m\u001b[39m.\u001b[39m_input_kwargs \u001b[39m=\u001b[39m kwargs\n\u001b[0;32m--> 139\u001b[0m \u001b[39mreturn\u001b[39;00m func(\u001b[39mself\u001b[39;49m, \u001b[39m*\u001b[39;49m\u001b[39m*\u001b[39;49mkwargs)\n",
      "File \u001b[0;32m/opt/conda/lib/python3.11/site-packages/sparknlp/internal/annotator_transformer.py:36\u001b[0m, in \u001b[0;36mAnnotatorTransformer.__init__\u001b[0;34m(self, classname)\u001b[0m\n\u001b[1;32m     34\u001b[0m \u001b[39mself\u001b[39m\u001b[39m.\u001b[39msetParams(\u001b[39m*\u001b[39m\u001b[39m*\u001b[39mkwargs)\n\u001b[1;32m     35\u001b[0m \u001b[39mself\u001b[39m\u001b[39m.\u001b[39m\u001b[39m__class__\u001b[39m\u001b[39m.\u001b[39m_java_class_name \u001b[39m=\u001b[39m classname\n\u001b[0;32m---> 36\u001b[0m \u001b[39mself\u001b[39m\u001b[39m.\u001b[39m_java_obj \u001b[39m=\u001b[39m \u001b[39mself\u001b[39;49m\u001b[39m.\u001b[39;49m_new_java_obj(classname, \u001b[39mself\u001b[39;49m\u001b[39m.\u001b[39;49muid)\n",
      "File \u001b[0;32m/usr/local/spark/python/pyspark/ml/wrapper.py:86\u001b[0m, in \u001b[0;36mJavaWrapper._new_java_obj\u001b[0;34m(java_class, *args)\u001b[0m\n\u001b[1;32m     84\u001b[0m     java_obj \u001b[39m=\u001b[39m \u001b[39mgetattr\u001b[39m(java_obj, name)\n\u001b[1;32m     85\u001b[0m java_args \u001b[39m=\u001b[39m [_py2java(sc, arg) \u001b[39mfor\u001b[39;00m arg \u001b[39min\u001b[39;00m args]\n\u001b[0;32m---> 86\u001b[0m \u001b[39mreturn\u001b[39;00m java_obj(\u001b[39m*\u001b[39;49mjava_args)\n",
      "\u001b[0;31mTypeError\u001b[0m: 'JavaPackage' object is not callable"
     ]
    }
   ],
   "source": [
    "# Import the required modules and classes\n",
    "from sparknlp.base import DocumentAssembler, Pipeline\n",
    "from sparknlp.annotator import (\n",
    "    UniversalSentenceEncoder,\n",
    "    SentimentDLModel\n",
    ")\n",
    "import pyspark.sql.functions as F\n",
    "\n",
    "documentAssembler = DocumentAssembler()\\\n",
    "    .setInputCol(\"text\")\\\n",
    "    .setOutputCol(\"document\")\n",
    "\n",
    "use = UniversalSentenceEncoder.pretrained(\"tfhub_use\", \"en\")\\\n",
    "    .setInputCols([\"document\"])\\\n",
    "    .setOutputCol(\"sentence_embeddings\")\n",
    "\n",
    "sentimentdl = SentimentDLModel.pretrained(\"sentimentdl_use_twitter\", \"en\")\\\n",
    "    .setInputCols([\"sentence_embeddings\"])\\\n",
    "    .setOutputCol(\"sentiment\")\n",
    "\n",
    "nlpPipeline = Pipeline(\n",
    "    stages=[\n",
    "        documentAssembler,\n",
    "        use,\n",
    "        sentimentdl\n",
    "    ])\n",
    "\n",
    "text_list = [\n",
    "    \"\"\"@Mbjthegreat i really dont want AT&amp;T phone service..they suck when it comes to having a signal\"\"\",\n",
    "    \"\"\"holy crap. I take a nap for 4 hours and Pitchfork blows up my twitter dashboard. I wish I was at Coachella.\"\"\",\n",
    "    \"\"\"@Susy412 he is working today  ive tried that still not working..... hmmmm!! im rubbish with computers haha!\"\"\",\n",
    "    \"\"\"Brand New Canon EOS 50D 15MP DSLR Camera Canon 17-85mm IS Lens ...: Web Technology Thread, Brand New Canon EOS 5.. http://u.mavrev.com/5a3t\"\"\",\n",
    "    \"\"\"Watching a programme about the life of Hitler, its only enhancing my geekiness of history.\"\"\",\n",
    "    \"\"\"GM says expects announcment on sale of Hummer soon - Reuters: WDSUGM says expects announcment on sale of Hummer .. http://bit.ly/4E1Fv\"\"\",\n",
    "    \"\"\"@accannis @edog1203 Great Stanford course. Thanks for making it available to the public! Really helpful and informative for starting off!\"\"\",\n",
    "    \"\"\"@the_real_usher LeBron is cool.  I like his personality...he has good character.\"\"\",\n",
    "    \"\"\"@sketchbug Lebron is a hometown hero to me, lol I love the Lakers but let's go Cavs, lol\"\"\",\n",
    "    \"\"\"@PDubyaD right!!! LOL we'll get there!! I have high expectations, Warren Buffet style.\"\"\",\n",
    "]\n"
   ]
  },
  {
   "cell_type": "code",
   "execution_count": null,
   "id": "97b09d05",
   "metadata": {},
   "outputs": [],
   "source": [
    "empty_df = spark.createDataFrame([['']]).toDF(\"text\")\n",
    "\n",
    "model = nlpPipeline.fit(empty_df)\n",
    "\n",
    "df = spark.createDataFrame(pd.DataFrame({\"text\":text_list}))\n",
    "result = model.transform(df)"
   ]
  }
 ],
 "metadata": {
  "kernelspec": {
   "display_name": "Python 3 (ipykernel)",
   "language": "python",
   "name": "python3"
  },
  "language_info": {
   "codemirror_mode": {
    "name": "ipython",
    "version": 3
   },
   "file_extension": ".py",
   "mimetype": "text/x-python",
   "name": "python",
   "nbconvert_exporter": "python",
   "pygments_lexer": "ipython3",
   "version": "3.11.6"
  }
 },
 "nbformat": 4,
 "nbformat_minor": 5
}
